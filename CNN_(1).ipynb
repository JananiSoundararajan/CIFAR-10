{
  "cells": [
    {
      "cell_type": "markdown",
      "metadata": {
        "id": "view-in-github",
        "colab_type": "text"
      },
      "source": [
        "<a href=\"https://colab.research.google.com/github/JananiSoundararajan/CIFAR-10/blob/main/CNN_(1).ipynb\" target=\"_parent\"><img src=\"https://colab.research.google.com/assets/colab-badge.svg\" alt=\"Open In Colab\"/></a>"
      ]
    },
    {
      "cell_type": "markdown",
      "metadata": {
        "id": "c0b27071"
      },
      "source": [
        "# Task\n",
        "Implement a CNN model in PyTorch using user-defined functions for image classification on a custom dataset organized in class folders. The implementation should include data preprocessing, model definition, training loop with loss/accuracy tracking, model evaluation, and performance graphs (Accuracy vs Epochs, Loss vs Epochs). Additionally, provide a short report (5-10 slides) summarizing the architecture, dataset details, training results, observations, and challenges. The final output should be a well-commented code file (.ipynb or .py), performance graphs, and the report."
      ]
    },
    {
      "cell_type": "markdown",
      "metadata": {
        "id": "db556d75"
      },
      "source": [
        "## Dataset preparation\n",
        "\n",
        "### Subtask:\n",
        "Load and preprocess the dataset, including creating custom dataset and dataloader functions.\n"
      ]
    },
    {
      "cell_type": "markdown",
      "metadata": {
        "id": "5bf1e344"
      },
      "source": [
        "**Reasoning**:\n",
        "Import necessary libraries and define the custom dataset class and transformations.\n",
        "\n"
      ]
    },
    {
      "cell_type": "code",
      "execution_count": null,
      "metadata": {
        "colab": {
          "base_uri": "https://localhost:8080/"
        },
        "id": "4ebf84e6",
        "outputId": "1dc9621c-e995-4b92-8ec8-f70fdb490738"
      },
      "outputs": [
        {
          "output_type": "stream",
          "name": "stderr",
          "text": [
            "100%|██████████| 170M/170M [00:04<00:00, 42.3MB/s]\n"
          ]
        },
        {
          "output_type": "stream",
          "name": "stdout",
          "text": [
            "Number of training samples: 50000\n",
            "Number of validation samples: 10000\n",
            "Number of training batches: 1563\n",
            "Number of validation batches: 313\n"
          ]
        }
      ],
      "source": [
        "import os\n",
        "import torch\n",
        "from torch.utils.data import Dataset, DataLoader\n",
        "from torchvision import transforms, datasets\n",
        "from PIL import Image\n",
        "\n",
        "# Define transformations\n",
        "train_transform = transforms.Compose([\n",
        "    transforms.Resize((32, 32)), # CIFAR10 images are 32x32\n",
        "    transforms.ToTensor(),\n",
        "    transforms.Normalize(mean=[0.485, 0.456, 0.406], std=[0.229, 0.224, 0.225])\n",
        "])\n",
        "\n",
        "val_transform = transforms.Compose([\n",
        "    transforms.Resize((32, 32)), # CIFAR10 images are 32x32\n",
        "    transforms.ToTensor(),\n",
        "    transforms.Normalize(mean=[0.485, 0.456, 0.406], std=[0.229, 0.224, 0.225])\n",
        "])\n",
        "\n",
        "# Load CIFAR10 dataset\n",
        "train_dataset = datasets.CIFAR10(root='./data', train=True, download=True, transform=train_transform)\n",
        "val_dataset = datasets.CIFAR10(root='./data', train=False, download=True, transform=val_transform)\n",
        "\n",
        "# Create dataloader instances\n",
        "batch_size = 32\n",
        "train_dataloader = DataLoader(train_dataset, batch_size=batch_size, shuffle=True)\n",
        "val_dataloader = DataLoader(val_dataset, batch_size=batch_size, shuffle=False)\n",
        "\n",
        "print(f\"Number of training samples: {len(train_dataset)}\")\n",
        "print(f\"Number of validation samples: {len(val_dataset)}\")\n",
        "print(f\"Number of training batches: {len(train_dataloader)}\")\n",
        "print(f\"Number of validation batches: {len(val_dataloader)}\")"
      ]
    },
    {
      "cell_type": "markdown",
      "metadata": {
        "id": "62a5b10c"
      },
      "source": [
        "## Dataset preparation\n",
        "\n",
        "### Subtask:\n",
        "Retry loading and preprocessing the dataset, including creating custom dataset and dataloader functions, addressing the FileNotFound error.\n"
      ]
    },
    {
      "cell_type": "markdown",
      "metadata": {
        "id": "fe2ee68c"
      },
      "source": [
        "**Reasoning**:\n",
        "Based on the previous error, the dataset directories were not found. Before rerunning the code, I need to ensure these directories exist and contain some data to avoid the `FileNotFoundError`. I will create dummy directories and files if the actual dataset is not available. Then, I will rerun the code to load the dataset and create dataloaders.\n",
        "\n"
      ]
    },
    {
      "cell_type": "code",
      "execution_count": null,
      "metadata": {
        "colab": {
          "base_uri": "https://localhost:8080/"
        },
        "id": "6df2bb74",
        "outputId": "92ecd272-6db1-4f58-ec19-de9725ee19f3"
      },
      "outputs": [
        {
          "output_type": "stream",
          "name": "stdout",
          "text": [
            "Successfully loaded CIFAR10 dataset.\n",
            "Number of training samples: 50000\n",
            "Number of validation samples: 10000\n",
            "Number of training batches: 1563\n",
            "Number of validation batches: 313\n"
          ]
        }
      ],
      "source": [
        "import os\n",
        "import torch\n",
        "from torch.utils.data import Dataset, DataLoader\n",
        "from torchvision import transforms, datasets\n",
        "from PIL import Image\n",
        "\n",
        "# Define transformations\n",
        "train_transform = transforms.Compose([\n",
        "    transforms.Resize((32, 32)), # CIFAR10 images are 32x32\n",
        "    transforms.ToTensor(),\n",
        "    transforms.Normalize(mean=[0.485, 0.456, 0.406], std=[0.229, 0.224, 0.225])\n",
        "])\n",
        "\n",
        "val_transform = transforms.Compose([\n",
        "    transforms.Resize((32, 32)), # CIFAR10 images are 32x32\n",
        "    transforms.ToTensor(),\n",
        "    transforms.Normalize(mean=[0.485, 0.456, 0.406], std=[0.229, 0.224, 0.225])\n",
        "])\n",
        "\n",
        "# Load CIFAR10 dataset\n",
        "try:\n",
        "    train_dataset = datasets.CIFAR10(root='./data', train=True, download=True, transform=train_transform)\n",
        "    val_dataset = datasets.CIFAR10(root='./data', train=False, download=True, transform=val_transform)\n",
        "    print(\"Successfully loaded CIFAR10 dataset.\")\n",
        "except Exception as e:\n",
        "    print(f\"Failed to load CIFAR10 dataset: {e}\")\n",
        "    print(\"Attempting to use dummy data instead.\")\n",
        "\n",
        "    # The following code for creating dummy data is kept from the previous attempt\n",
        "    # in case the library dataset loading fails or the user wants to revert to\n",
        "    # using a custom dataset.\n",
        "    train_data_dir = 'data/train'\n",
        "    val_data_dir = 'data/val'\n",
        "\n",
        "    os.makedirs('data', exist_ok=True)\n",
        "    os.makedirs(train_data_dir, exist_ok=True)\n",
        "    os.makedirs(val_data_dir, exist_ok=True)\n",
        "\n",
        "    def create_dummy_data(data_dir, num_classes=2, num_images_per_class=5):\n",
        "        for i in range(num_classes):\n",
        "            class_name = f'class_{i}'\n",
        "            class_dir = os.path.join(data_dir, class_name)\n",
        "            os.makedirs(class_dir, exist_ok=True)\n",
        "            if not os.listdir(class_dir):\n",
        "                for j in range(num_images_per_class):\n",
        "                    dummy_img_path = os.path.join(class_dir, f'dummy_image_{j}.png')\n",
        "                    dummy_image = Image.new('RGB', (60, 30), color = 'red')\n",
        "                    dummy_image.save(dummy_img_path)\n",
        "                print(f\"Created dummy data in {class_dir}\")\n",
        "\n",
        "    if not os.listdir(train_data_dir) or not any(os.listdir(os.path.join(train_data_dir, d)) for d in os.listdir(train_data_dir) if os.path.isdir(os.path.join(train_data_dir, d))):\n",
        "        print(f\"'{train_data_dir}' is empty or does not contain class folders. Creating dummy data.\")\n",
        "        create_dummy_data(train_data_dir)\n",
        "\n",
        "    if not os.listdir(val_data_dir) or not any(os.listdir(os.path.join(val_data_dir, d)) for d in os.listdir(val_data_dir) if os.path.isdir(os.path.join(val_data_dir, d))):\n",
        "        print(f\"'{val_data_dir}' is empty or does not contain class folders. Creating dummy data.\")\n",
        "        create_dummy_data(val_data_dir)\n",
        "\n",
        "    class CustomImageDataset(Dataset):\n",
        "        def __init__(self, data_dir, transform=None):\n",
        "            self.data_dir = data_dir\n",
        "            self.transform = transform\n",
        "            self.classes = sorted(os.listdir(data_dir))\n",
        "            self.class_to_idx = {cls_name: i for i, cls_name in enumerate(self.classes)}\n",
        "            self.image_paths = []\n",
        "            self.labels = []\n",
        "            for cls_name in self.classes:\n",
        "                cls_dir = os.path.join(data_dir, cls_name)\n",
        "                if os.path.isdir(cls_dir):\n",
        "                    for img_name in os.listdir(cls_dir):\n",
        "                        img_path = os.path.join(cls_dir, img_name)\n",
        "                        if os.path.isfile(img_path):\n",
        "                            self.image_paths.append(img_path)\n",
        "                            self.labels.append(self.class_to_idx[cls_name])\n",
        "\n",
        "        def __len__(self):\n",
        "            return len(self.image_paths)\n",
        "\n",
        "        def __getitem__(self, idx):\n",
        "            img_path = self.image_paths[idx]\n",
        "            image = Image.open(img_path).convert(\"RGB\")\n",
        "            label = self.labels[idx]\n",
        "            if self.transform:\n",
        "                image = self.transform(image)\n",
        "            return image, label\n",
        "\n",
        "    train_dataset = CustomImageDataset(data_dir=train_data_dir, transform=train_transform)\n",
        "    val_dataset = CustomImageDataset(data_dir=val_data_dir, transform=val_transform)\n",
        "\n",
        "\n",
        "# Create dataloader instances\n",
        "batch_size = 32\n",
        "train_dataloader = DataLoader(train_dataset, batch_size=batch_size, shuffle=True)\n",
        "val_dataloader = DataLoader(val_dataset, batch_size=batch_size, shuffle=False)\n",
        "\n",
        "# Verify that the dataset and dataloaders are created successfully\n",
        "print(f\"Number of training samples: {len(train_dataset)}\")\n",
        "print(f\"Number of validation samples: {len(val_dataset)}\")\n",
        "print(f\"Number of training batches: {len(train_dataloader)}\")\n",
        "print(f\"Number of validation batches: {len(val_dataloader)}\")"
      ]
    },
    {
      "cell_type": "markdown",
      "metadata": {
        "id": "3f0ddcf7"
      },
      "source": [
        "## Cnn model definition\n",
        "\n",
        "### Subtask:\n",
        "Define the CNN model architecture using PyTorch's `nn.Module` and user-defined functions for each layer.\n"
      ]
    },
    {
      "cell_type": "markdown",
      "metadata": {
        "id": "b7a7ec55"
      },
      "source": [
        "**Reasoning**:\n",
        "Define the CNN model architecture using PyTorch's `nn.Module`, including convolutional layers, activation functions, pooling layers, and fully connected layers, ensuring the output layer matches the number of classes from the training dataset.\n",
        "\n"
      ]
    },
    {
      "cell_type": "code",
      "execution_count": null,
      "metadata": {
        "colab": {
          "base_uri": "https://localhost:8080/"
        },
        "id": "47316217",
        "outputId": "7720c35a-1e7f-48aa-c38b-b33fcad68966"
      },
      "outputs": [
        {
          "output_type": "stream",
          "name": "stdout",
          "text": [
            "CNN model defined successfully.\n",
            "SimpleCNN(\n",
            "  (conv1): Conv2d(3, 16, kernel_size=(3, 3), stride=(1, 1), padding=(1, 1))\n",
            "  (pool): MaxPool2d(kernel_size=2, stride=2, padding=0, dilation=1, ceil_mode=False)\n",
            "  (conv2): Conv2d(16, 32, kernel_size=(3, 3), stride=(1, 1), padding=(1, 1))\n",
            "  (conv3): Conv2d(32, 64, kernel_size=(3, 3), stride=(1, 1), padding=(1, 1))\n",
            "  (adaptive_pool): AdaptiveAvgPool2d(output_size=(1, 1))\n",
            "  (fc1): Linear(in_features=64, out_features=10, bias=True)\n",
            ")\n"
          ]
        }
      ],
      "source": [
        "import torch.nn as nn\n",
        "import torch.nn.functional as F\n",
        "\n",
        "class SimpleCNN(nn.Module):\n",
        "    def __init__(self, num_classes):\n",
        "        super(SimpleCNN, self).__init__()\n",
        "        # First convolutional layer\n",
        "        self.conv1 = nn.Conv2d(in_channels=3, out_channels=16, kernel_size=3, padding=1)\n",
        "        # First pooling layer\n",
        "        self.pool = nn.MaxPool2d(kernel_size=2, stride=2, padding=0)\n",
        "        # Second convolutional layer\n",
        "        self.conv2 = nn.Conv2d(in_channels=16, out_channels=32, kernel_size=3, padding=1)\n",
        "        # Third convolutional layer\n",
        "        self.conv3 = nn.Conv2d(in_channels=32, out_channels=64, kernel_size=3, padding=1)\n",
        "        # Adaptive pooling to get a fixed size output regardless of input size\n",
        "        self.adaptive_pool = nn.AdaptiveAvgPool2d((1, 1))\n",
        "        # Fully connected layer\n",
        "        # The input features to the linear layer will be 64 * 1 * 1 after adaptive pooling\n",
        "        self.fc1 = nn.Linear(64, num_classes)\n",
        "\n",
        "    def forward(self, x):\n",
        "        # Apply first convolution, ReLU activation, and pooling\n",
        "        x = self.pool(F.relu(self.conv1(x)))\n",
        "        # Apply second convolution and ReLU activation\n",
        "        x = F.relu(self.conv2(x))\n",
        "        # Apply third convolution and ReLU activation\n",
        "        x = F.relu(self.conv3(x))\n",
        "        # Apply adaptive average pooling\n",
        "        x = self.adaptive_pool(x)\n",
        "        # Flatten the output for the fully connected layer\n",
        "        x = torch.flatten(x, 1) # flatten all dimensions except batch\n",
        "        # Apply the fully connected layer\n",
        "        x = self.fc1(x)\n",
        "        return x\n",
        "\n",
        "# Get the number of classes from the training dataset\n",
        "num_classes = len(train_dataset.classes)\n",
        "\n",
        "# Instantiate the CNN model\n",
        "model = SimpleCNN(num_classes=num_classes)\n",
        "\n",
        "print(\"CNN model defined successfully.\")\n",
        "print(model)"
      ]
    },
    {
      "cell_type": "markdown",
      "metadata": {
        "id": "79bba65b"
      },
      "source": [
        "## Training functions\n",
        "\n",
        "### Subtask:\n",
        "Implement user-defined functions for the training loop, loss calculation, and accuracy tracking."
      ]
    },
    {
      "cell_type": "markdown",
      "metadata": {
        "id": "189d42f8"
      },
      "source": [
        "**Reasoning**:\n",
        "Implement the training and validation functions, including loss calculation and accuracy tracking. Define an optimizer and a loss function."
      ]
    },
    {
      "cell_type": "code",
      "execution_count": null,
      "metadata": {
        "colab": {
          "base_uri": "https://localhost:8080/"
        },
        "id": "01a1f085",
        "outputId": "c2abe5d7-e68d-41d2-ab40-7bccd0da206b"
      },
      "outputs": [
        {
          "output_type": "stream",
          "name": "stdout",
          "text": [
            "Training and evaluation functions defined.\n"
          ]
        }
      ],
      "source": [
        "import torch.optim as optim\n",
        "\n",
        "# Define loss function and optimizer\n",
        "criterion = nn.CrossEntropyLoss()\n",
        "optimizer = optim.Adam(model.parameters(), lr=0.001)\n",
        "\n",
        "def train_model(model, train_loader, criterion, optimizer, device):\n",
        "    model.train()\n",
        "    running_loss = 0.0\n",
        "    correct_predictions = 0\n",
        "    total_samples = 0\n",
        "\n",
        "    for inputs, labels in train_loader:\n",
        "        inputs, labels = inputs.to(device), labels.to(device)\n",
        "\n",
        "        optimizer.zero_grad()\n",
        "\n",
        "        outputs = model(inputs)\n",
        "        loss = criterion(outputs, labels)\n",
        "        loss.backward()\n",
        "        optimizer.step()\n",
        "\n",
        "        running_loss += loss.item() * inputs.size(0)\n",
        "        _, predicted = torch.max(outputs.data, 1)\n",
        "        total_samples += labels.size(0)\n",
        "        correct_predictions += (predicted == labels).sum().item()\n",
        "\n",
        "    epoch_loss = running_loss / total_samples\n",
        "    epoch_acc = correct_predictions / total_samples\n",
        "    return epoch_loss, epoch_acc\n",
        "\n",
        "def evaluate_model(model, val_loader, criterion, device):\n",
        "    model.eval()\n",
        "    running_loss = 0.0\n",
        "    correct_predictions = 0\n",
        "    total_samples = 0\n",
        "\n",
        "    with torch.no_grad():\n",
        "        for inputs, labels in val_loader:\n",
        "            inputs, labels = inputs.to(device), labels.to(device)\n",
        "\n",
        "            outputs = model(inputs)\n",
        "            loss = criterion(outputs, labels)\n",
        "\n",
        "            running_loss += loss.item() * inputs.size(0)\n",
        "            _, predicted = torch.max(outputs.data, 1)\n",
        "            total_samples += labels.size(0)\n",
        "            correct_predictions += (predicted == labels).sum().item()\n",
        "\n",
        "    epoch_loss = running_loss / total_samples\n",
        "    epoch_acc = correct_predictions / total_samples\n",
        "    return epoch_loss, epoch_acc\n",
        "\n",
        "print(\"Training and evaluation functions defined.\")"
      ]
    },
    {
      "cell_type": "markdown",
      "metadata": {
        "id": "71cca0d0"
      },
      "source": [
        "## Model training\n",
        "\n",
        "### Subtask:\n",
        "Train the CNN model using the prepared dataset and defined training functions."
      ]
    },
    {
      "cell_type": "markdown",
      "metadata": {
        "id": "15ce10cd"
      },
      "source": [
        "**Reasoning**:\n",
        "Implement the training loop to train the model for a specified number of epochs, calling the `train_model` and `evaluate_model` functions and tracking the loss and accuracy."
      ]
    },
    {
      "cell_type": "code",
      "execution_count": null,
      "metadata": {
        "colab": {
          "base_uri": "https://localhost:8080/"
        },
        "id": "b4d137e9",
        "outputId": "c846b7d8-d273-42a8-8c01-5525d7f1f444"
      },
      "outputs": [
        {
          "output_type": "stream",
          "name": "stdout",
          "text": [
            "Epoch 1/25:\n",
            "  Train Loss: 1.7654, Train Acc: 0.3305\n",
            "  Val Loss: 1.5627, Val Acc: 0.4247\n",
            "Epoch 2/25:\n",
            "  Train Loss: 1.5152, Train Acc: 0.4443\n",
            "  Val Loss: 1.4312, Val Acc: 0.4835\n",
            "Epoch 3/25:\n",
            "  Train Loss: 1.3848, Train Acc: 0.5014\n",
            "  Val Loss: 1.3052, Val Acc: 0.5393\n",
            "Epoch 4/25:\n",
            "  Train Loss: 1.2904, Train Acc: 0.5400\n",
            "  Val Loss: 1.2504, Val Acc: 0.5524\n",
            "Epoch 5/25:\n",
            "  Train Loss: 1.2157, Train Acc: 0.5673\n",
            "  Val Loss: 1.2082, Val Acc: 0.5589\n",
            "Epoch 6/25:\n",
            "  Train Loss: 1.1575, Train Acc: 0.5897\n",
            "  Val Loss: 1.1490, Val Acc: 0.5941\n",
            "Epoch 7/25:\n",
            "  Train Loss: 1.1128, Train Acc: 0.6095\n",
            "  Val Loss: 1.0800, Val Acc: 0.6215\n",
            "Epoch 8/25:\n",
            "  Train Loss: 1.0792, Train Acc: 0.6190\n",
            "  Val Loss: 1.0621, Val Acc: 0.6248\n",
            "Epoch 9/25:\n",
            "  Train Loss: 1.0477, Train Acc: 0.6305\n",
            "  Val Loss: 1.0545, Val Acc: 0.6343\n",
            "Epoch 10/25:\n",
            "  Train Loss: 1.0243, Train Acc: 0.6398\n",
            "  Val Loss: 1.0614, Val Acc: 0.6241\n",
            "Epoch 11/25:\n",
            "  Train Loss: 1.0010, Train Acc: 0.6471\n",
            "  Val Loss: 1.0046, Val Acc: 0.6392\n",
            "Epoch 12/25:\n",
            "  Train Loss: 0.9781, Train Acc: 0.6559\n",
            "  Val Loss: 0.9801, Val Acc: 0.6561\n",
            "Epoch 13/25:\n",
            "  Train Loss: 0.9594, Train Acc: 0.6616\n",
            "  Val Loss: 1.0149, Val Acc: 0.6442\n",
            "Epoch 14/25:\n",
            "  Train Loss: 0.9410, Train Acc: 0.6684\n",
            "  Val Loss: 0.9686, Val Acc: 0.6580\n",
            "Epoch 15/25:\n",
            "  Train Loss: 0.9284, Train Acc: 0.6754\n",
            "  Val Loss: 0.9500, Val Acc: 0.6632\n",
            "Epoch 16/25:\n",
            "  Train Loss: 0.9133, Train Acc: 0.6787\n",
            "  Val Loss: 0.9302, Val Acc: 0.6721\n",
            "Epoch 17/25:\n",
            "  Train Loss: 0.8947, Train Acc: 0.6877\n",
            "  Val Loss: 0.9308, Val Acc: 0.6745\n",
            "Epoch 18/25:\n",
            "  Train Loss: 0.8839, Train Acc: 0.6913\n",
            "  Val Loss: 0.9501, Val Acc: 0.6647\n",
            "Epoch 19/25:\n",
            "  Train Loss: 0.8685, Train Acc: 0.6964\n",
            "  Val Loss: 0.9079, Val Acc: 0.6791\n",
            "Epoch 20/25:\n",
            "  Train Loss: 0.8571, Train Acc: 0.7002\n",
            "  Val Loss: 0.8870, Val Acc: 0.6895\n",
            "Epoch 21/25:\n",
            "  Train Loss: 0.8442, Train Acc: 0.7049\n",
            "  Val Loss: 0.8705, Val Acc: 0.6955\n",
            "Epoch 22/25:\n",
            "  Train Loss: 0.8310, Train Acc: 0.7106\n",
            "  Val Loss: 0.9148, Val Acc: 0.6824\n",
            "Epoch 23/25:\n",
            "  Train Loss: 0.8225, Train Acc: 0.7125\n",
            "  Val Loss: 0.8581, Val Acc: 0.7021\n",
            "Epoch 24/25:\n",
            "  Train Loss: 0.8100, Train Acc: 0.7180\n",
            "  Val Loss: 0.8551, Val Acc: 0.7018\n",
            "Epoch 25/25:\n",
            "  Train Loss: 0.7977, Train Acc: 0.7221\n",
            "  Val Loss: 0.8597, Val Acc: 0.6983\n",
            "Model training finished.\n"
          ]
        }
      ],
      "source": [
        "num_epochs = 25\n",
        "device = torch.device(\"cuda\" if torch.cuda.is_available() else \"cpu\")\n",
        "model.to(device)\n",
        "\n",
        "train_losses = []\n",
        "train_accuracies = []\n",
        "val_losses = []\n",
        "val_accuracies = []\n",
        "\n",
        "for epoch in range(num_epochs):\n",
        "    train_loss, train_acc = train_model(model, train_dataloader, criterion, optimizer, device)\n",
        "    val_loss, val_acc = evaluate_model(model, val_dataloader, criterion, device)\n",
        "\n",
        "    train_losses.append(train_loss)\n",
        "    train_accuracies.append(train_acc)\n",
        "    val_losses.append(val_loss)\n",
        "    val_accuracies.append(val_acc)\n",
        "\n",
        "    print(f\"Epoch {epoch+1}/{num_epochs}:\")\n",
        "    print(f\"  Train Loss: {train_loss:.4f}, Train Acc: {train_acc:.4f}\")\n",
        "    print(f\"  Val Loss: {val_loss:.4f}, Val Acc: {val_acc:.4f}\")\n",
        "\n",
        "print(\"Model training finished.\")"
      ]
    },
    {
      "cell_type": "code",
      "execution_count": null,
      "metadata": {
        "colab": {
          "base_uri": "https://localhost:8080/"
        },
        "id": "sM_HF6nqsf8C",
        "outputId": "7319fc1a-cc4b-47c2-ca9e-1a2f3484a8a3"
      },
      "outputs": [
        {
          "name": "stdout",
          "output_type": "stream",
          "text": [
            "Sat Jul 26 03:06:45 2025       \n",
            "+-----------------------------------------------------------------------------------------+\n",
            "| NVIDIA-SMI 550.54.15              Driver Version: 550.54.15      CUDA Version: 12.4     |\n",
            "|-----------------------------------------+------------------------+----------------------+\n",
            "| GPU  Name                 Persistence-M | Bus-Id          Disp.A | Volatile Uncorr. ECC |\n",
            "| Fan  Temp   Perf          Pwr:Usage/Cap |           Memory-Usage | GPU-Util  Compute M. |\n",
            "|                                         |                        |               MIG M. |\n",
            "|=========================================+========================+======================|\n",
            "|   0  Tesla T4                       Off |   00000000:00:04.0 Off |                    0 |\n",
            "| N/A   39C    P8              9W /   70W |       0MiB /  15360MiB |      0%      Default |\n",
            "|                                         |                        |                  N/A |\n",
            "+-----------------------------------------+------------------------+----------------------+\n",
            "                                                                                         \n",
            "+-----------------------------------------------------------------------------------------+\n",
            "| Processes:                                                                              |\n",
            "|  GPU   GI   CI        PID   Type   Process name                              GPU Memory |\n",
            "|        ID   ID                                                               Usage      |\n",
            "|=========================================================================================|\n",
            "|  No running processes found                                                             |\n",
            "+-----------------------------------------------------------------------------------------+\n"
          ]
        }
      ],
      "source": [
        "!nvidia-smi"
      ]
    },
    {
      "cell_type": "markdown",
      "metadata": {
        "id": "76cd64d6"
      },
      "source": [
        "## Model evaluation\n",
        "\n",
        "### Subtask:\n",
        "Evaluate the trained CNN model on the validation dataset."
      ]
    },
    {
      "cell_type": "markdown",
      "metadata": {
        "id": "328644f4"
      },
      "source": [
        "**Reasoning**:\n",
        "Evaluate the trained model using the `evaluate_model` function and the validation dataloader to get the final performance metrics on unseen data."
      ]
    },
    {
      "cell_type": "code",
      "metadata": {
        "colab": {
          "base_uri": "https://localhost:8080/"
        },
        "id": "1d411b17",
        "outputId": "b6024f07-118b-47dd-aeb7-efe0a3bac875"
      },
      "source": [
        "# Evaluate the model on the validation set\n",
        "final_val_loss, final_val_acc = evaluate_model(model, val_dataloader, criterion, device)\n",
        "\n",
        "print(f\"Final Validation Loss: {final_val_loss:.4f}\")\n",
        "print(f\"Final Validation Accuracy: {final_val_acc:.4f}\")"
      ],
      "execution_count": null,
      "outputs": [
        {
          "output_type": "stream",
          "name": "stdout",
          "text": [
            "Final Validation Loss: 0.8597\n",
            "Final Validation Accuracy: 0.6983\n"
          ]
        }
      ]
    },
    {
      "cell_type": "markdown",
      "metadata": {
        "id": "63010dbe"
      },
      "source": [
        "# Task\n",
        "Generate a confusion matrix heatmap for a model's predictions on a validation dataset."
      ]
    },
    {
      "cell_type": "markdown",
      "metadata": {
        "id": "4b4cde1e"
      },
      "source": [
        "## Get predictions and labels\n",
        "\n",
        "### Subtask:\n",
        "Obtain the model's predictions and the true labels for the validation dataset.\n"
      ]
    },
    {
      "cell_type": "markdown",
      "metadata": {
        "id": "1bb61666"
      },
      "source": [
        "**Reasoning**:\n",
        "Obtain the model's predictions and the true labels for the validation dataset by iterating through the validation dataloader and storing the labels and predictions.\n",
        "\n"
      ]
    },
    {
      "cell_type": "code",
      "metadata": {
        "colab": {
          "base_uri": "https://localhost:8080/"
        },
        "id": "ad50892a",
        "outputId": "7f3bb6d9-eb4c-4424-c5dd-bdad775485a6"
      },
      "source": [
        "import numpy as np\n",
        "\n",
        "# Set the model to evaluation mode\n",
        "model.eval()\n",
        "\n",
        "# Initialize lists to store true and predicted labels\n",
        "true_labels = []\n",
        "predicted_labels = []\n",
        "\n",
        "# Iterate through the validation dataloader\n",
        "with torch.no_grad():\n",
        "    for inputs, labels in val_dataloader:\n",
        "        inputs, labels = inputs.to(device), labels.to(device)\n",
        "\n",
        "        outputs = model(inputs)\n",
        "        _, predicted = torch.max(outputs.data, 1)\n",
        "\n",
        "        true_labels.extend(labels.cpu().numpy())\n",
        "        predicted_labels.extend(predicted.cpu().numpy())\n",
        "\n",
        "# Convert lists to NumPy arrays\n",
        "true_labels = np.array(true_labels)\n",
        "predicted_labels = np.array(predicted_labels)\n",
        "\n",
        "print(\"Obtained true and predicted labels for the validation dataset.\")\n",
        "print(f\"Number of validation samples: {len(true_labels)}\")"
      ],
      "execution_count": null,
      "outputs": [
        {
          "output_type": "stream",
          "name": "stdout",
          "text": [
            "Obtained true and predicted labels for the validation dataset.\n",
            "Number of validation samples: 10000\n"
          ]
        }
      ]
    },
    {
      "cell_type": "markdown",
      "metadata": {
        "id": "a873bd62"
      },
      "source": [
        "## Generate confusion matrix\n",
        "\n",
        "### Subtask:\n",
        "Compute the confusion matrix based on the predictions and true labels.\n"
      ]
    },
    {
      "cell_type": "markdown",
      "metadata": {
        "id": "8d7f59a1"
      },
      "source": [
        "**Reasoning**:\n",
        "Compute the confusion matrix using the true and predicted labels.\n",
        "\n"
      ]
    },
    {
      "cell_type": "code",
      "metadata": {
        "colab": {
          "base_uri": "https://localhost:8080/"
        },
        "id": "d7312066",
        "outputId": "659607f2-4032-4407-e64e-e3b86ed372f9"
      },
      "source": [
        "from sklearn.metrics import confusion_matrix\n",
        "\n",
        "conf_matrix = confusion_matrix(true_labels, predicted_labels)\n",
        "\n",
        "print(\"Confusion Matrix:\")\n",
        "print(conf_matrix)"
      ],
      "execution_count": null,
      "outputs": [
        {
          "output_type": "stream",
          "name": "stdout",
          "text": [
            "Confusion Matrix:\n",
            "[[734  46  49  23   9  17   9  18  61  34]\n",
            " [ 18 885   2  12   2   6   2   3   3  67]\n",
            " [ 88   3 555  93  71  91  48  38   2  11]\n",
            " [ 19  11  50 587  29 231  33  19   6  15]\n",
            " [ 15   4  95  89 614  85  23  67   5   3]\n",
            " [ 12   6  38 182  27 685   8  33   3   6]\n",
            " [  8   7  81 109  76  66 643   4   3   3]\n",
            " [ 25   4  27  60  63 106   4 692   2  17]\n",
            " [ 77  59  10  22  10   7   3   6 778  28]\n",
            " [ 21 106   6  16   4   5   1  16  15 810]]\n"
          ]
        }
      ]
    },
    {
      "cell_type": "markdown",
      "metadata": {
        "id": "75ef5367"
      },
      "source": [
        "## Plot heatmap\n",
        "\n",
        "### Subtask:\n",
        "Create a heatmap visualization of the confusion matrix using matplotlib and seaborn.\n"
      ]
    },
    {
      "cell_type": "markdown",
      "metadata": {
        "id": "0c55300c"
      },
      "source": [
        "**Reasoning**:\n",
        "Create a heatmap visualization of the confusion matrix using matplotlib and seaborn to visualize the model's performance across different classes.\n",
        "\n"
      ]
    },
    {
      "cell_type": "code",
      "metadata": {
        "colab": {
          "base_uri": "https://localhost:8080/",
          "height": 807
        },
        "id": "cb32f804",
        "outputId": "2299a87f-7b1a-4d12-9fe0-d62770a4d6a7"
      },
      "source": [
        "import seaborn as sns\n",
        "import matplotlib.pyplot as plt\n",
        "\n",
        "# Set the figure size\n",
        "plt.figure(figsize=(10, 8))\n",
        "\n",
        "# Create the heatmap\n",
        "sns.heatmap(conf_matrix, annot=True, fmt='d', cmap='Blues')\n",
        "\n",
        "# Add labels and title\n",
        "plt.xlabel('Predicted Label')\n",
        "plt.ylabel('True Label')\n",
        "plt.title('Confusion Matrix')\n",
        "\n",
        "# Ensure tight layout\n",
        "plt.tight_layout()\n",
        "\n",
        "# Display the plot\n",
        "plt.show()"
      ],
      "execution_count": null,
      "outputs": [
        {
          "output_type": "display_data",
          "data": {
            "text/plain": [
              "<Figure size 1000x800 with 2 Axes>"
            ],
            "image/png": "[encoded data removed]"
          },
          "metadata": {}
        }
      ]
    },
    {
      "cell_type": "markdown",
      "metadata": {
        "id": "865194a3"
      },
      "source": [
        "## Summary:\n",
        "\n",
        "### Data Analysis Key Findings\n",
        "\n",
        "*   The true and predicted labels for 10,000 validation samples were successfully obtained.\n",
        "*   A 10x10 confusion matrix was computed using the true and predicted labels, indicating a classification problem with 10 classes.\n",
        "*   A heatmap visualization of the confusion matrix was successfully generated, displaying the counts of true positives, true negatives, false positives, and false negatives for each class.\n",
        "\n",
        "### Insights or Next Steps\n",
        "\n",
        "*   Analyze the confusion matrix heatmap to identify which classes the model is performing well on and which classes are causing the most misclassifications.\n",
        "*   Investigate specific misclassified samples to understand the reasons for errors and potentially improve the model or data.\n"
      ]
    }
  ],
  "metadata": {
    "accelerator": "GPU",
    "colab": {
      "gpuType": "T4",
      "provenance": [],
      "include_colab_link": true
    },
    "kernelspec": {
      "display_name": "Python 3",
      "name": "python3"
    },
    "language_info": {
      "name": "python"
    }
  },
  "nbformat": 4,
  "nbformat_minor": 0
}